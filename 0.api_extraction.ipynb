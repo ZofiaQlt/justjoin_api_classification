{
 "cells": [
  {
   "cell_type": "markdown",
   "id": "1114550b",
   "metadata": {
    "canvas": {
     "comments": [],
     "componentType": "CodeCell",
     "copiedOriginId": null,
     "diskcache": false,
     "headerColor": "none",
     "id": "7b141d12-b548-4352-97df-ec2ea7729332",
     "isComponent": false,
     "name": "",
     "parents": []
    },
    "tags": []
   },
   "source": [
    "<img src=\"img/logo.png\">"
   ]
  },
  {
   "cell_type": "markdown",
   "id": "0c66cf39-2d6b-4704-804f-55dd25d43334",
   "metadata": {
    "canvas": {
     "comments": [],
     "componentType": "CodeCell",
     "copiedOriginId": null,
     "diskcache": false,
     "headerColor": "inherit",
     "id": "bd1a9138-4baa-4afc-809e-cd249d0f5b5d",
     "isComponent": false,
     "name": "",
     "parents": []
    }
   },
   "source": [
    "# Chargement des librairies"
   ]
  },
  {
   "cell_type": "code",
   "execution_count": 1,
   "id": "68a0a736",
   "metadata": {
    "canvas": {
     "comments": [],
     "componentType": "CodeCell",
     "copiedOriginId": null,
     "diskcache": false,
     "headerColor": "none",
     "id": "6fe8dd9d-3cca-467a-bddb-3debc7ea81bb",
     "isComponent": false,
     "name": "",
     "parents": []
    }
   },
   "outputs": [],
   "source": [
    "import pandas as pd\n",
    "import requests"
   ]
  },
  {
   "cell_type": "markdown",
   "id": "bcca739b-7ea0-4487-b7f3-f24d7d7422b7",
   "metadata": {
    "canvas": {
     "comments": [],
     "componentType": "CodeCell",
     "copiedOriginId": null,
     "diskcache": false,
     "headerColor": "inherit",
     "id": "70553c7d-3173-4091-a21b-7722f89b3c2f",
     "isComponent": false,
     "name": "",
     "parents": []
    }
   },
   "source": [
    "# Récupération des données via l'API de Justjoin"
   ]
  },
  {
   "cell_type": "code",
   "execution_count": 2,
   "id": "aec8f0ad",
   "metadata": {
    "canvas": {
     "comments": [],
     "componentType": "CodeCell",
     "copiedOriginId": null,
     "diskcache": false,
     "headerColor": "none",
     "id": "7fb42118-dbf9-4986-84a2-6a341a525576",
     "isComponent": false,
     "name": "",
     "parents": []
    }
   },
   "outputs": [],
   "source": [
    "http_address = 'https://justjoin.it/api/offers'\n",
    "\n",
    "response = requests.get(http_address)\n",
    "content = response.json()"
   ]
  },
  {
   "cell_type": "code",
   "execution_count": 3,
   "id": "bc6849d9",
   "metadata": {
    "canvas": {
     "comments": [],
     "componentType": "CodeCell",
     "copiedOriginId": null,
     "diskcache": false,
     "headerColor": "none",
     "id": "7afc6a10-def7-47aa-ad48-eea2d3d85e66",
     "isComponent": false,
     "name": "",
     "parents": []
    }
   },
   "outputs": [
    {
     "name": "stdout",
     "output_type": "stream",
     "text": [
      "Downloaded 15389 offers\n"
     ]
    }
   ],
   "source": [
    "print(f'Downloaded {len(content)} offers')"
   ]
  },
  {
   "cell_type": "code",
   "execution_count": 4,
   "id": "18339804",
   "metadata": {
    "canvas": {
     "comments": [],
     "componentType": "CodeCell",
     "copiedOriginId": null,
     "diskcache": false,
     "headerColor": "none",
     "id": "430a7dc6-52d3-4db4-999f-f30bc76572ea",
     "isComponent": false,
     "name": "",
     "parents": []
    }
   },
   "outputs": [
    {
     "data": {
      "text/plain": [
       "{'title': '.NET Developer',\n",
       " 'street': 'Centrum',\n",
       " 'city': 'Bydgoszcz',\n",
       " 'country_code': 'PL',\n",
       " 'address_text': 'Centrum, Bydgoszcz',\n",
       " 'marker_icon': 'net',\n",
       " 'workplace_type': 'partly_remote',\n",
       " 'company_name': 'Oponeo.pl',\n",
       " 'company_url': 'https://www.oponeo.pl/',\n",
       " 'company_size': '>200',\n",
       " 'experience_level': 'mid',\n",
       " 'latitude': '53.1234804',\n",
       " 'longitude': '18.0084378',\n",
       " 'published_at': '2023-03-28T23:00:10.846Z',\n",
       " 'remote_interview': False,\n",
       " 'open_to_hire_ukrainians': False,\n",
       " 'id': 'oponeo-pl-net-developer-bydgoszcz',\n",
       " 'display_offer': True,\n",
       " 'employment_types': [{'type': 'b2b',\n",
       "   'salary': {'from': 10000, 'to': 17000, 'currency': 'pln'}},\n",
       "  {'type': 'permanent',\n",
       "   'salary': {'from': 8000, 'to': 14000, 'currency': 'pln'}}],\n",
       " 'company_logo_url': 'https://bucket.justjoin.it/offers/company_logos/thumb/b220d7875436b8b178a07eb2446062ad1486047c.jpg?1677623327',\n",
       " 'skills': [{'name': 'ASP.NET', 'level': 3},\n",
       "  {'name': '.Net', 'level': 3},\n",
       "  {'name': 'C#', 'level': 3}],\n",
       " 'remote': False,\n",
       " 'multilocation': [{'city': 'Bydgoszcz',\n",
       "   'street': 'Centrum',\n",
       "   'slug': 'oponeo-pl-net-developer-bydgoszcz'}],\n",
       " 'way_of_apply': 'form'}"
      ]
     },
     "execution_count": 4,
     "metadata": {},
     "output_type": "execute_result"
    }
   ],
   "source": [
    "content[0]"
   ]
  },
  {
   "cell_type": "markdown",
   "id": "951ee7a8",
   "metadata": {
    "canvas": {
     "comments": [],
     "componentType": "CodeCell",
     "copiedOriginId": null,
     "diskcache": false,
     "headerColor": "none",
     "id": "5d3cdbb4-c6c4-4e89-88a2-b9b562d43b54",
     "isComponent": false,
     "name": "",
     "parents": []
    }
   },
   "source": [
    "# Transformation des données"
   ]
  },
  {
   "cell_type": "code",
   "execution_count": 5,
   "id": "2c68c255",
   "metadata": {
    "canvas": {
     "comments": [],
     "componentType": "CodeCell",
     "copiedOriginId": null,
     "diskcache": false,
     "headerColor": "none",
     "id": "94795c2a-09a7-4fb0-b28b-1a833595169b",
     "isComponent": false,
     "name": "",
     "parents": []
    }
   },
   "outputs": [],
   "source": [
    "# Conversion des monnaies en euros\n",
    "pln = 0.213\n",
    "usd = 0.923\n",
    "\n",
    "# Préparation des données pour la création du DataFrame\n",
    "records = []\n",
    "offer_types = ['data']\n",
    "\n",
    "for offer in content:\n",
    "    if offer['marker_icon'] in offer_types:\n",
    "        for employment_type in offer['employment_types']:\n",
    "            if employment_type['type'] == 'b2b' and employment_type['salary'] is not None:\n",
    "                if employment_type['salary']['currency'] == 'pln':\n",
    "                    b2b_from = employment_type['salary']['from'] * pln\n",
    "                    b2b_to = employment_type['salary']['to'] * pln\n",
    "                elif employment_type['salary']['currency'] == 'usd':\n",
    "                    b2b_from = employment_type['salary']['from'] * usd\n",
    "                    b2b_to = employment_type['salary']['to'] * usd\n",
    "                else:\n",
    "                    b2b_from = employment_type['salary']['from']\n",
    "                    b2b_to = employment_type['salary']['to']\n",
    "            else:\n",
    "                b2b_from = None\n",
    "                b2b_to = None\n",
    "                \n",
    "            if employment_type['type'] == 'permanent' and employment_type['salary'] is not None:\n",
    "                if employment_type['salary']['currency'] == 'pln':\n",
    "                    permanent_from = employment_type['salary']['from'] * pln\n",
    "                    permanent_to = employment_type['salary']['to'] * pln\n",
    "                elif employment_type['salary']['currency'] == 'usd':\n",
    "                    permanent_from = employment_type['salary']['from'] * usd\n",
    "                    permanent_to = employment_type['salary']['to'] * usd\n",
    "                else:\n",
    "                    permanent_from = employment_type['salary']['from']\n",
    "                    permanent_to = employment_type['salary']['to']\n",
    "            else:\n",
    "                permanent_from = None\n",
    "                permanent_to = None\n",
    "                \n",
    "        for skill in offer['skills']:\n",
    "            #print(offer['title'])\n",
    "            records.append({'offer_type': offer['marker_icon'],\n",
    "                           'title': offer['title'],\n",
    "                           'id': offer['id'],\n",
    "                           'b2b_from': b2b_from,\n",
    "                           'b2b_to': b2b_to,\n",
    "                           'skill_name': skill['name'],\n",
    "                           'skill_level': skill['level'],\n",
    "                           'permanent_from': permanent_from,\n",
    "                           'permanent_to': permanent_to,\n",
    "                           'experience_level': offer['experience_level']})\n",
    "    "
   ]
  },
  {
   "cell_type": "markdown",
   "id": "7062cd66",
   "metadata": {
    "canvas": {
     "comments": [],
     "componentType": "CodeCell",
     "copiedOriginId": null,
     "diskcache": false,
     "headerColor": "none",
     "id": "c9e3b101-61bf-43bd-a647-e1ddb1f08a8c",
     "isComponent": false,
     "name": "",
     "parents": []
    }
   },
   "source": [
    "# Création du DataFrame"
   ]
  },
  {
   "cell_type": "code",
   "execution_count": 6,
   "id": "3c8a984a",
   "metadata": {
    "canvas": {
     "comments": [],
     "componentType": "CodeCell",
     "copiedOriginId": null,
     "diskcache": false,
     "headerColor": "none",
     "id": "ebd43e08-3377-4b93-9a14-cf433f54843b",
     "isComponent": false,
     "name": "",
     "parents": []
    }
   },
   "outputs": [
    {
     "data": {
      "text/html": [
       "<div>\n",
       "<style scoped>\n",
       "    .dataframe tbody tr th:only-of-type {\n",
       "        vertical-align: middle;\n",
       "    }\n",
       "\n",
       "    .dataframe tbody tr th {\n",
       "        vertical-align: top;\n",
       "    }\n",
       "\n",
       "    .dataframe thead th {\n",
       "        text-align: right;\n",
       "    }\n",
       "</style>\n",
       "<table border=\"1\" class=\"dataframe\">\n",
       "  <thead>\n",
       "    <tr style=\"text-align: right;\">\n",
       "      <th></th>\n",
       "      <th>offer_type</th>\n",
       "      <th>title</th>\n",
       "      <th>id</th>\n",
       "      <th>b2b_from</th>\n",
       "      <th>b2b_to</th>\n",
       "      <th>skill_name</th>\n",
       "      <th>skill_level</th>\n",
       "      <th>permanent_from</th>\n",
       "      <th>permanent_to</th>\n",
       "      <th>experience_level</th>\n",
       "    </tr>\n",
       "  </thead>\n",
       "  <tbody>\n",
       "    <tr>\n",
       "      <th>749</th>\n",
       "      <td>data</td>\n",
       "      <td>Specjalista Event Stream Processing</td>\n",
       "      <td>devire-specjalista-event-stream-processing</td>\n",
       "      <td>5009.76</td>\n",
       "      <td>6441.12</td>\n",
       "      <td>SQL</td>\n",
       "      <td>3</td>\n",
       "      <td>NaN</td>\n",
       "      <td>NaN</td>\n",
       "      <td>mid</td>\n",
       "    </tr>\n",
       "    <tr>\n",
       "      <th>1550</th>\n",
       "      <td>data</td>\n",
       "      <td>(Senior) Data Engineer</td>\n",
       "      <td>limango-polska-data-engineer-katowice</td>\n",
       "      <td>3621.00</td>\n",
       "      <td>5538.00</td>\n",
       "      <td>ETL</td>\n",
       "      <td>4</td>\n",
       "      <td>NaN</td>\n",
       "      <td>NaN</td>\n",
       "      <td>senior</td>\n",
       "    </tr>\n",
       "    <tr>\n",
       "      <th>473</th>\n",
       "      <td>data</td>\n",
       "      <td>Data Consultant</td>\n",
       "      <td>netcompany-poland-data-consultant</td>\n",
       "      <td>NaN</td>\n",
       "      <td>NaN</td>\n",
       "      <td>Microsoft SQL</td>\n",
       "      <td>3</td>\n",
       "      <td>1917.0</td>\n",
       "      <td>2982.0</td>\n",
       "      <td>mid</td>\n",
       "    </tr>\n",
       "    <tr>\n",
       "      <th>144</th>\n",
       "      <td>data</td>\n",
       "      <td>Integration &amp; Data Engineer</td>\n",
       "      <td>reply-integration-data-engineer-gliwice</td>\n",
       "      <td>NaN</td>\n",
       "      <td>NaN</td>\n",
       "      <td>REST API</td>\n",
       "      <td>3</td>\n",
       "      <td>1917.0</td>\n",
       "      <td>3408.0</td>\n",
       "      <td>mid</td>\n",
       "    </tr>\n",
       "    <tr>\n",
       "      <th>725</th>\n",
       "      <td>data</td>\n",
       "      <td>Python Data Scientist</td>\n",
       "      <td>transition-technologies-science-python-data-sc...</td>\n",
       "      <td>NaN</td>\n",
       "      <td>NaN</td>\n",
       "      <td>Data Science</td>\n",
       "      <td>3</td>\n",
       "      <td>1810.5</td>\n",
       "      <td>2662.5</td>\n",
       "      <td>mid</td>\n",
       "    </tr>\n",
       "  </tbody>\n",
       "</table>\n",
       "</div>"
      ],
      "text/plain": [
       "     offer_type                                title  \\\n",
       "749        data  Specjalista Event Stream Processing   \n",
       "1550       data               (Senior) Data Engineer   \n",
       "473        data                      Data Consultant   \n",
       "144        data          Integration & Data Engineer   \n",
       "725        data                Python Data Scientist   \n",
       "\n",
       "                                                     id  b2b_from   b2b_to  \\\n",
       "749          devire-specjalista-event-stream-processing   5009.76  6441.12   \n",
       "1550              limango-polska-data-engineer-katowice   3621.00  5538.00   \n",
       "473                   netcompany-poland-data-consultant       NaN      NaN   \n",
       "144             reply-integration-data-engineer-gliwice       NaN      NaN   \n",
       "725   transition-technologies-science-python-data-sc...       NaN      NaN   \n",
       "\n",
       "         skill_name  skill_level  permanent_from  permanent_to  \\\n",
       "749             SQL            3             NaN           NaN   \n",
       "1550            ETL            4             NaN           NaN   \n",
       "473   Microsoft SQL            3          1917.0        2982.0   \n",
       "144        REST API            3          1917.0        3408.0   \n",
       "725    Data Science            3          1810.5        2662.5   \n",
       "\n",
       "     experience_level  \n",
       "749               mid  \n",
       "1550           senior  \n",
       "473               mid  \n",
       "144               mid  \n",
       "725               mid  "
      ]
     },
     "execution_count": 6,
     "metadata": {},
     "output_type": "execute_result"
    }
   ],
   "source": [
    "df = pd.DataFrame(records)\n",
    "df.sample(5)"
   ]
  },
  {
   "cell_type": "code",
   "execution_count": 7,
   "id": "0c353535",
   "metadata": {
    "canvas": {
     "comments": [],
     "componentType": "CodeCell",
     "copiedOriginId": null,
     "diskcache": false,
     "headerColor": "none",
     "id": "fa535a62-02c0-413b-a524-8a9347ae1d14",
     "isComponent": false,
     "name": "",
     "parents": []
    }
   },
   "outputs": [
    {
     "data": {
      "text/plain": [
       "SQL              313\n",
       "Python           241\n",
       "ETL              101\n",
       "AWS              101\n",
       "Big Data          75\n",
       "                ... \n",
       "Azure/AWS          1\n",
       "TypeScript         1\n",
       "SAS 4 GL           1\n",
       "MDM                1\n",
       "DWH/Data Mart      1\n",
       "Name: skill_name, Length: 233, dtype: int64"
      ]
     },
     "execution_count": 7,
     "metadata": {},
     "output_type": "execute_result"
    }
   ],
   "source": [
    "df['skill_name'].value_counts()"
   ]
  },
  {
   "cell_type": "code",
   "execution_count": 8,
   "id": "8f36ebdf",
   "metadata": {
    "canvas": {
     "comments": [],
     "componentType": "CodeCell",
     "copiedOriginId": null,
     "diskcache": false,
     "headerColor": "none",
     "id": "366f61e7-c0cf-427f-9e47-18cc872df3d5",
     "isComponent": false,
     "name": "",
     "parents": []
    }
   },
   "outputs": [
    {
     "data": {
      "text/plain": [
       "Index(['SQL', 'Python', 'AWS', 'ETL', 'Big Data', 'T-SQL', 'Oracle',\n",
       "       'Power BI', 'Data Science', 'Hadoop', 'PL/SQL', 'English', 'Azure',\n",
       "       'Snowflake', 'Databases', 'Cloud', 'Spark', 'Machine Learning', 'Data',\n",
       "       'Scala'],\n",
       "      dtype='object', name='skill_name')"
      ]
     },
     "execution_count": 8,
     "metadata": {},
     "output_type": "execute_result"
    }
   ],
   "source": [
    "# Affichage des 20 skills les plus demandés\n",
    "top_skills = df.groupby(['skill_name'])['id'].nunique().sort_values(ascending=False).head(20).index\n",
    "top_skills"
   ]
  },
  {
   "cell_type": "code",
   "execution_count": 9,
   "id": "02c58e1d",
   "metadata": {
    "canvas": {
     "comments": [],
     "componentType": "CodeCell",
     "copiedOriginId": null,
     "diskcache": false,
     "headerColor": "none",
     "id": "93ecd7e6-3a0c-4578-b0c6-7c337dca6849",
     "isComponent": false,
     "name": "",
     "parents": []
    }
   },
   "outputs": [
    {
     "data": {
      "text/html": [
       "<div>\n",
       "<style scoped>\n",
       "    .dataframe tbody tr th:only-of-type {\n",
       "        vertical-align: middle;\n",
       "    }\n",
       "\n",
       "    .dataframe tbody tr th {\n",
       "        vertical-align: top;\n",
       "    }\n",
       "\n",
       "    .dataframe thead th {\n",
       "        text-align: right;\n",
       "    }\n",
       "</style>\n",
       "<table border=\"1\" class=\"dataframe\">\n",
       "  <thead>\n",
       "    <tr style=\"text-align: right;\">\n",
       "      <th></th>\n",
       "      <th>offer_type</th>\n",
       "      <th>title</th>\n",
       "      <th>id</th>\n",
       "      <th>b2b_from</th>\n",
       "      <th>b2b_to</th>\n",
       "      <th>skill_name</th>\n",
       "      <th>skill_level</th>\n",
       "      <th>permanent_from</th>\n",
       "      <th>permanent_to</th>\n",
       "      <th>experience_level</th>\n",
       "    </tr>\n",
       "  </thead>\n",
       "  <tbody>\n",
       "    <tr>\n",
       "      <th>443</th>\n",
       "      <td>data</td>\n",
       "      <td>Pl/SQL Developer (MID)</td>\n",
       "      <td>7n-pl-sql-developer-mid</td>\n",
       "      <td>4114.734</td>\n",
       "      <td>4651.707</td>\n",
       "      <td>PL/SQL</td>\n",
       "      <td>3</td>\n",
       "      <td>NaN</td>\n",
       "      <td>NaN</td>\n",
       "      <td>mid</td>\n",
       "    </tr>\n",
       "    <tr>\n",
       "      <th>631</th>\n",
       "      <td>data</td>\n",
       "      <td>Data Engineer</td>\n",
       "      <td>addepto-data-engineer-84907540-d2ee-4c5f-9a14-...</td>\n",
       "      <td>4294.080</td>\n",
       "      <td>6441.120</td>\n",
       "      <td>Python</td>\n",
       "      <td>4</td>\n",
       "      <td>NaN</td>\n",
       "      <td>NaN</td>\n",
       "      <td>senior</td>\n",
       "    </tr>\n",
       "    <tr>\n",
       "      <th>1260</th>\n",
       "      <td>data</td>\n",
       "      <td>BI Developer (OBIEE)</td>\n",
       "      <td>onwelo-sp-z-o-o-bi-developer-obiee-gdansk</td>\n",
       "      <td>NaN</td>\n",
       "      <td>NaN</td>\n",
       "      <td>SQL</td>\n",
       "      <td>3</td>\n",
       "      <td>2023.5</td>\n",
       "      <td>2982.0</td>\n",
       "      <td>mid</td>\n",
       "    </tr>\n",
       "    <tr>\n",
       "      <th>1125</th>\n",
       "      <td>data</td>\n",
       "      <td>DATA System Engineer</td>\n",
       "      <td>payback-data-system-engineer-pruszkow</td>\n",
       "      <td>NaN</td>\n",
       "      <td>NaN</td>\n",
       "      <td>Hadoop</td>\n",
       "      <td>4</td>\n",
       "      <td>NaN</td>\n",
       "      <td>NaN</td>\n",
       "      <td>mid</td>\n",
       "    </tr>\n",
       "    <tr>\n",
       "      <th>2591</th>\n",
       "      <td>data</td>\n",
       "      <td>Data Quality Tester</td>\n",
       "      <td>idego-data-quality-tester-torun</td>\n",
       "      <td>4260.000</td>\n",
       "      <td>5325.000</td>\n",
       "      <td>Power BI</td>\n",
       "      <td>3</td>\n",
       "      <td>NaN</td>\n",
       "      <td>NaN</td>\n",
       "      <td>senior</td>\n",
       "    </tr>\n",
       "  </tbody>\n",
       "</table>\n",
       "</div>"
      ],
      "text/plain": [
       "     offer_type                   title  \\\n",
       "443        data  Pl/SQL Developer (MID)   \n",
       "631        data           Data Engineer   \n",
       "1260       data    BI Developer (OBIEE)   \n",
       "1125       data    DATA System Engineer   \n",
       "2591       data     Data Quality Tester   \n",
       "\n",
       "                                                     id  b2b_from    b2b_to  \\\n",
       "443                             7n-pl-sql-developer-mid  4114.734  4651.707   \n",
       "631   addepto-data-engineer-84907540-d2ee-4c5f-9a14-...  4294.080  6441.120   \n",
       "1260          onwelo-sp-z-o-o-bi-developer-obiee-gdansk       NaN       NaN   \n",
       "1125              payback-data-system-engineer-pruszkow       NaN       NaN   \n",
       "2591                    idego-data-quality-tester-torun  4260.000  5325.000   \n",
       "\n",
       "     skill_name  skill_level  permanent_from  permanent_to experience_level  \n",
       "443      PL/SQL            3             NaN           NaN              mid  \n",
       "631      Python            4             NaN           NaN           senior  \n",
       "1260        SQL            3          2023.5        2982.0              mid  \n",
       "1125     Hadoop            4             NaN           NaN              mid  \n",
       "2591   Power BI            3             NaN           NaN           senior  "
      ]
     },
     "execution_count": 9,
     "metadata": {},
     "output_type": "execute_result"
    }
   ],
   "source": [
    "# Récupération des annonces contenant uniquement les 20 skills les plus demandés\n",
    "df = df[df['skill_name'].isin(top_skills)]\n",
    "df.sample(5)"
   ]
  },
  {
   "cell_type": "markdown",
   "id": "6e137fbd",
   "metadata": {
    "canvas": {
     "comments": [],
     "componentType": "CodeCell",
     "copiedOriginId": null,
     "diskcache": false,
     "headerColor": "none",
     "id": "53768544-3977-471c-b48a-768e572d29e8",
     "isComponent": false,
     "name": "",
     "parents": []
    }
   },
   "source": [
    "# Pivot"
   ]
  },
  {
   "cell_type": "code",
   "execution_count": 10,
   "id": "f7190396",
   "metadata": {
    "canvas": {
     "comments": [],
     "componentType": "CodeCell",
     "copiedOriginId": null,
     "diskcache": false,
     "headerColor": "none",
     "id": "392ede98-42bc-4818-94af-16d3e028876b",
     "isComponent": false,
     "name": "",
     "parents": []
    }
   },
   "outputs": [
    {
     "data": {
      "text/html": [
       "<div>\n",
       "<style scoped>\n",
       "    .dataframe tbody tr th:only-of-type {\n",
       "        vertical-align: middle;\n",
       "    }\n",
       "\n",
       "    .dataframe tbody tr th {\n",
       "        vertical-align: top;\n",
       "    }\n",
       "\n",
       "    .dataframe thead th {\n",
       "        text-align: right;\n",
       "    }\n",
       "</style>\n",
       "<table border=\"1\" class=\"dataframe\">\n",
       "  <thead>\n",
       "    <tr style=\"text-align: right;\">\n",
       "      <th>skill_name</th>\n",
       "      <th>offer_type</th>\n",
       "      <th>title</th>\n",
       "      <th>id</th>\n",
       "      <th>b2b_from</th>\n",
       "      <th>b2b_to</th>\n",
       "      <th>permanent_from</th>\n",
       "      <th>permanent_to</th>\n",
       "      <th>experience_level</th>\n",
       "      <th>AWS</th>\n",
       "      <th>Azure</th>\n",
       "      <th>...</th>\n",
       "      <th>Machine Learning</th>\n",
       "      <th>Oracle</th>\n",
       "      <th>PL/SQL</th>\n",
       "      <th>Power BI</th>\n",
       "      <th>Python</th>\n",
       "      <th>SQL</th>\n",
       "      <th>Scala</th>\n",
       "      <th>Snowflake</th>\n",
       "      <th>Spark</th>\n",
       "      <th>T-SQL</th>\n",
       "    </tr>\n",
       "  </thead>\n",
       "  <tbody>\n",
       "    <tr>\n",
       "      <th>544</th>\n",
       "      <td>data</td>\n",
       "      <td>Mid MySQL Database Administration</td>\n",
       "      <td>cred-mid-mysql-database-administration-poznan</td>\n",
       "      <td>4899.0</td>\n",
       "      <td>7029.0</td>\n",
       "      <td>NaN</td>\n",
       "      <td>NaN</td>\n",
       "      <td>mid</td>\n",
       "      <td>0.0</td>\n",
       "      <td>0.0</td>\n",
       "      <td>...</td>\n",
       "      <td>0.0</td>\n",
       "      <td>0.0</td>\n",
       "      <td>0.0</td>\n",
       "      <td>0.0</td>\n",
       "      <td>0.0</td>\n",
       "      <td>3.0</td>\n",
       "      <td>0.0</td>\n",
       "      <td>0.0</td>\n",
       "      <td>0.0</td>\n",
       "      <td>0.0</td>\n",
       "    </tr>\n",
       "    <tr>\n",
       "      <th>499</th>\n",
       "      <td>data</td>\n",
       "      <td>Jr/Mid Data Engineer</td>\n",
       "      <td>awareson-sp-z-o-o-data-engineer-warszawa</td>\n",
       "      <td>NaN</td>\n",
       "      <td>NaN</td>\n",
       "      <td>1917.0</td>\n",
       "      <td>3834.0</td>\n",
       "      <td>mid</td>\n",
       "      <td>0.0</td>\n",
       "      <td>4.0</td>\n",
       "      <td>...</td>\n",
       "      <td>0.0</td>\n",
       "      <td>0.0</td>\n",
       "      <td>0.0</td>\n",
       "      <td>0.0</td>\n",
       "      <td>4.0</td>\n",
       "      <td>0.0</td>\n",
       "      <td>0.0</td>\n",
       "      <td>0.0</td>\n",
       "      <td>0.0</td>\n",
       "      <td>0.0</td>\n",
       "    </tr>\n",
       "    <tr>\n",
       "      <th>385</th>\n",
       "      <td>data</td>\n",
       "      <td>DataBase Application (Developer)</td>\n",
       "      <td>aspire-global-database-application-developer</td>\n",
       "      <td>NaN</td>\n",
       "      <td>NaN</td>\n",
       "      <td>NaN</td>\n",
       "      <td>NaN</td>\n",
       "      <td>mid</td>\n",
       "      <td>0.0</td>\n",
       "      <td>0.0</td>\n",
       "      <td>...</td>\n",
       "      <td>0.0</td>\n",
       "      <td>0.0</td>\n",
       "      <td>0.0</td>\n",
       "      <td>0.0</td>\n",
       "      <td>0.0</td>\n",
       "      <td>0.0</td>\n",
       "      <td>0.0</td>\n",
       "      <td>0.0</td>\n",
       "      <td>0.0</td>\n",
       "      <td>3.0</td>\n",
       "    </tr>\n",
       "    <tr>\n",
       "      <th>250</th>\n",
       "      <td>data</td>\n",
       "      <td>Data Engineer (Cloud Engineer)</td>\n",
       "      <td>peakdata-data-enginner-cloud-engineer-katowice</td>\n",
       "      <td>5544.0</td>\n",
       "      <td>7224.0</td>\n",
       "      <td>NaN</td>\n",
       "      <td>NaN</td>\n",
       "      <td>senior</td>\n",
       "      <td>4.0</td>\n",
       "      <td>0.0</td>\n",
       "      <td>...</td>\n",
       "      <td>0.0</td>\n",
       "      <td>0.0</td>\n",
       "      <td>0.0</td>\n",
       "      <td>0.0</td>\n",
       "      <td>4.0</td>\n",
       "      <td>0.0</td>\n",
       "      <td>0.0</td>\n",
       "      <td>0.0</td>\n",
       "      <td>0.0</td>\n",
       "      <td>0.0</td>\n",
       "    </tr>\n",
       "    <tr>\n",
       "      <th>647</th>\n",
       "      <td>data</td>\n",
       "      <td>SPECJALISTA DS. BUSINESS INTELLIGENCE</td>\n",
       "      <td>drosed-holding-specjalista-ds-business-intelli...</td>\n",
       "      <td>NaN</td>\n",
       "      <td>NaN</td>\n",
       "      <td>NaN</td>\n",
       "      <td>NaN</td>\n",
       "      <td>mid</td>\n",
       "      <td>0.0</td>\n",
       "      <td>0.0</td>\n",
       "      <td>...</td>\n",
       "      <td>0.0</td>\n",
       "      <td>0.0</td>\n",
       "      <td>0.0</td>\n",
       "      <td>3.0</td>\n",
       "      <td>0.0</td>\n",
       "      <td>0.0</td>\n",
       "      <td>0.0</td>\n",
       "      <td>0.0</td>\n",
       "      <td>0.0</td>\n",
       "      <td>0.0</td>\n",
       "    </tr>\n",
       "  </tbody>\n",
       "</table>\n",
       "<p>5 rows × 28 columns</p>\n",
       "</div>"
      ],
      "text/plain": [
       "skill_name offer_type                                  title  \\\n",
       "544              data      Mid MySQL Database Administration   \n",
       "499              data                   Jr/Mid Data Engineer   \n",
       "385              data       DataBase Application (Developer)   \n",
       "250              data         Data Engineer (Cloud Engineer)   \n",
       "647              data  SPECJALISTA DS. BUSINESS INTELLIGENCE   \n",
       "\n",
       "skill_name                                                 id  b2b_from  \\\n",
       "544             cred-mid-mysql-database-administration-poznan    4899.0   \n",
       "499                  awareson-sp-z-o-o-data-engineer-warszawa       NaN   \n",
       "385              aspire-global-database-application-developer       NaN   \n",
       "250            peakdata-data-enginner-cloud-engineer-katowice    5544.0   \n",
       "647         drosed-holding-specjalista-ds-business-intelli...       NaN   \n",
       "\n",
       "skill_name  b2b_to  permanent_from  permanent_to experience_level  AWS  Azure  \\\n",
       "544         7029.0             NaN           NaN              mid  0.0    0.0   \n",
       "499            NaN          1917.0        3834.0              mid  0.0    4.0   \n",
       "385            NaN             NaN           NaN              mid  0.0    0.0   \n",
       "250         7224.0             NaN           NaN           senior  4.0    0.0   \n",
       "647            NaN             NaN           NaN              mid  0.0    0.0   \n",
       "\n",
       "skill_name  ...  Machine Learning  Oracle  PL/SQL  Power BI  Python  SQL  \\\n",
       "544         ...               0.0     0.0     0.0       0.0     0.0  3.0   \n",
       "499         ...               0.0     0.0     0.0       0.0     4.0  0.0   \n",
       "385         ...               0.0     0.0     0.0       0.0     0.0  0.0   \n",
       "250         ...               0.0     0.0     0.0       0.0     4.0  0.0   \n",
       "647         ...               0.0     0.0     0.0       3.0     0.0  0.0   \n",
       "\n",
       "skill_name  Scala  Snowflake  Spark  T-SQL  \n",
       "544           0.0        0.0    0.0    0.0  \n",
       "499           0.0        0.0    0.0    0.0  \n",
       "385           0.0        0.0    0.0    3.0  \n",
       "250           0.0        0.0    0.0    0.0  \n",
       "647           0.0        0.0    0.0    0.0  \n",
       "\n",
       "[5 rows x 28 columns]"
      ]
     },
     "execution_count": 10,
     "metadata": {},
     "output_type": "execute_result"
    }
   ],
   "source": [
    "# Pivotage des 'skill_name' en colonnes\n",
    "df = df.pivot(index = df.columns.drop(['skill_name', 'skill_level']),\n",
    "         columns = 'skill_name',\n",
    "         values = 'skill_level').fillna(0).reset_index()\n",
    "df.sample(5)"
   ]
  },
  {
   "cell_type": "code",
   "execution_count": 11,
   "id": "d0bf2613-010d-43ef-abb5-9bf27bdd6e4c",
   "metadata": {
    "canvas": {
     "comments": [],
     "componentType": "CodeCell",
     "copiedOriginId": null,
     "diskcache": false,
     "headerColor": "inherit",
     "id": "e94631e7-5943-4f1e-a83d-badea137fea2",
     "isComponent": false,
     "name": "",
     "parents": []
    }
   },
   "outputs": [
    {
     "name": "stdout",
     "output_type": "stream",
     "text": [
      "\n",
      "Le DataFrame final contient 859 observations et 28 colonnes\n"
     ]
    }
   ],
   "source": [
    "print(f'\\nLe DataFrame final contient {df.shape[0]} observations et {df.shape[1]} colonnes')"
   ]
  },
  {
   "cell_type": "markdown",
   "id": "75136c01",
   "metadata": {
    "canvas": {
     "comments": [],
     "componentType": "CodeCell",
     "copiedOriginId": null,
     "diskcache": false,
     "headerColor": "none",
     "id": "5d711780-d3be-495b-81ba-13c7dc282ab6",
     "isComponent": false,
     "name": "",
     "parents": []
    }
   },
   "source": [
    "# Exportation du fichier"
   ]
  },
  {
   "cell_type": "code",
   "execution_count": 12,
   "id": "8ab06ae9",
   "metadata": {
    "canvas": {
     "comments": [],
     "componentType": "CodeCell",
     "copiedOriginId": null,
     "diskcache": false,
     "headerColor": "none",
     "id": "9a3e969a-156f-4c9b-a84f-25b735839f17",
     "isComponent": false,
     "name": "",
     "parents": []
    }
   },
   "outputs": [],
   "source": [
    "df.to_csv('justjoin.csv', index=False)"
   ]
  }
 ],
 "metadata": {
  "canvas": {
   "colorPalette": [
    "inherit",
    "inherit",
    "inherit",
    "inherit",
    "inherit",
    "inherit",
    "inherit",
    "inherit",
    "inherit",
    "inherit"
   ],
   "parameters": [],
   "version": "1.0"
  },
  "kernelspec": {
   "display_name": "Python 3 (ipykernel)",
   "language": "python",
   "name": "python3"
  },
  "language_info": {
   "codemirror_mode": {
    "name": "ipython",
    "version": 3
   },
   "file_extension": ".py",
   "mimetype": "text/x-python",
   "name": "python",
   "nbconvert_exporter": "python",
   "pygments_lexer": "ipython3",
   "version": "3.9.13"
  },
  "toc": {
   "base_numbering": 1,
   "nav_menu": {},
   "number_sections": true,
   "sideBar": true,
   "skip_h1_title": false,
   "title_cell": "Table of Contents",
   "title_sidebar": "Contents",
   "toc_cell": false,
   "toc_position": {
    "height": "calc(100% - 180px)",
    "left": "10px",
    "top": "150px",
    "width": "197.1875px"
   },
   "toc_section_display": true,
   "toc_window_display": true
  },
  "varInspector": {
   "cols": {
    "lenName": 16,
    "lenType": 16,
    "lenVar": 40
   },
   "kernels_config": {
    "python": {
     "delete_cmd_postfix": "",
     "delete_cmd_prefix": "del ",
     "library": "var_list.py",
     "varRefreshCmd": "print(var_dic_list())"
    },
    "r": {
     "delete_cmd_postfix": ") ",
     "delete_cmd_prefix": "rm(",
     "library": "var_list.r",
     "varRefreshCmd": "cat(var_dic_list()) "
    }
   },
   "types_to_exclude": [
    "module",
    "function",
    "builtin_function_or_method",
    "instance",
    "_Feature"
   ],
   "window_display": false
  }
 },
 "nbformat": 4,
 "nbformat_minor": 5
}
