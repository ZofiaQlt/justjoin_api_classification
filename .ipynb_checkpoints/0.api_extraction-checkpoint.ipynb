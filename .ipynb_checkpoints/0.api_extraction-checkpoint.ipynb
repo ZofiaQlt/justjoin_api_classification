{
 "cells": [
  {
   "cell_type": "markdown",
   "id": "1114550b",
   "metadata": {
    "canvas": {
     "comments": [],
     "componentType": "CodeCell",
     "copiedOriginId": null,
     "diskcache": false,
     "headerColor": "none",
     "id": "7b141d12-b548-4352-97df-ec2ea7729332",
     "isComponent": false,
     "name": "",
     "parents": []
    },
    "tags": []
   },
   "source": [
    "<img src=\"logo2.png\">"
   ]
  },
  {
   "cell_type": "markdown",
   "id": "0c66cf39-2d6b-4704-804f-55dd25d43334",
   "metadata": {
    "canvas": {
     "comments": [],
     "componentType": "CodeCell",
     "copiedOriginId": null,
     "diskcache": false,
     "headerColor": "inherit",
     "id": "bd1a9138-4baa-4afc-809e-cd249d0f5b5d",
     "isComponent": false,
     "name": "",
     "parents": []
    }
   },
   "source": [
    "# Chargement des librairies"
   ]
  },
  {
   "cell_type": "code",
   "execution_count": 1,
   "id": "68a0a736",
   "metadata": {
    "canvas": {
     "comments": [],
     "componentType": "CodeCell",
     "copiedOriginId": null,
     "diskcache": false,
     "headerColor": "none",
     "id": "6fe8dd9d-3cca-467a-bddb-3debc7ea81bb",
     "isComponent": false,
     "name": "",
     "parents": []
    }
   },
   "outputs": [],
   "source": [
    "import pandas as pd\n",
    "import requests"
   ]
  },
  {
   "cell_type": "markdown",
   "id": "bcca739b-7ea0-4487-b7f3-f24d7d7422b7",
   "metadata": {
    "canvas": {
     "comments": [],
     "componentType": "CodeCell",
     "copiedOriginId": null,
     "diskcache": false,
     "headerColor": "inherit",
     "id": "70553c7d-3173-4091-a21b-7722f89b3c2f",
     "isComponent": false,
     "name": "",
     "parents": []
    }
   },
   "source": [
    "# Récupération des données via l'API de Justjoin"
   ]
  },
  {
   "cell_type": "code",
   "execution_count": 2,
   "id": "aec8f0ad",
   "metadata": {
    "canvas": {
     "comments": [],
     "componentType": "CodeCell",
     "copiedOriginId": null,
     "diskcache": false,
     "headerColor": "none",
     "id": "7fb42118-dbf9-4986-84a2-6a341a525576",
     "isComponent": false,
     "name": "",
     "parents": []
    }
   },
   "outputs": [],
   "source": [
    "http_address = 'https://justjoin.it/api/offers'\n",
    "\n",
    "response = requests.get(http_address)\n",
    "content = response.json()"
   ]
  },
  {
   "cell_type": "code",
   "execution_count": 3,
   "id": "bc6849d9",
   "metadata": {
    "canvas": {
     "comments": [],
     "componentType": "CodeCell",
     "copiedOriginId": null,
     "diskcache": false,
     "headerColor": "none",
     "id": "7afc6a10-def7-47aa-ad48-eea2d3d85e66",
     "isComponent": false,
     "name": "",
     "parents": []
    }
   },
   "outputs": [
    {
     "name": "stdout",
     "output_type": "stream",
     "text": [
      "Downloaded 15183 offers\n"
     ]
    }
   ],
   "source": [
    "print(f'Downloaded {len(content)} offers')"
   ]
  },
  {
   "cell_type": "code",
   "execution_count": 4,
   "id": "18339804",
   "metadata": {
    "canvas": {
     "comments": [],
     "componentType": "CodeCell",
     "copiedOriginId": null,
     "diskcache": false,
     "headerColor": "none",
     "id": "430a7dc6-52d3-4db4-999f-f30bc76572ea",
     "isComponent": false,
     "name": "",
     "parents": []
    }
   },
   "outputs": [
    {
     "data": {
      "text/plain": [
       "{'title': 'Architekt systemów informatycznych',\n",
       " 'street': 'Puławska 474',\n",
       " 'city': 'Warszawa',\n",
       " 'country_code': 'PL',\n",
       " 'address_text': 'Puławska 474, Warszawa',\n",
       " 'marker_icon': 'architecture',\n",
       " 'workplace_type': 'partly_remote',\n",
       " 'company_name': 'Comtegra',\n",
       " 'company_url': 'https://www.comtegra.pl/kariera/',\n",
       " 'company_size': '100',\n",
       " 'experience_level': 'mid',\n",
       " 'latitude': '52.1185376',\n",
       " 'longitude': '21.0175693',\n",
       " 'published_at': '2023-03-28T20:00:10.781Z',\n",
       " 'remote_interview': True,\n",
       " 'open_to_hire_ukrainians': True,\n",
       " 'id': 'comtegra-architekt-systemow-informatycznych-b1c43113-6ba7-4dd6-b1a7-24ed52f73539',\n",
       " 'display_offer': True,\n",
       " 'employment_types': [{'type': 'permanent', 'salary': None},\n",
       "  {'type': 'b2b', 'salary': None}],\n",
       " 'company_logo_url': 'https://bucket.justjoin.it/offers/company_logos/thumb/362a5a8b3941b1d082803829ad08e8591043aec9.jpg?1676974614',\n",
       " 'skills': [{'name': 'BPMN', 'level': 3},\n",
       "  {'name': 'UML', 'level': 3},\n",
       "  {'name': 'Architecture', 'level': 4}],\n",
       " 'remote': False,\n",
       " 'multilocation': [{'city': 'Płock',\n",
       "   'slug': 'comtegra-architekt-systemow-informatycznych-plock',\n",
       "   'street': 'Centrum'},\n",
       "  {'city': 'Łódź',\n",
       "   'slug': 'comtegra-architekt-systemow-informatycznych-lodz',\n",
       "   'street': 'Centrum'},\n",
       "  {'city': 'Warszawa',\n",
       "   'slug': 'comtegra-architekt-systemow-informatycznych-b1c43113-6ba7-4dd6-b1a7-24ed52f73539',\n",
       "   'street': 'Puławska 474'}],\n",
       " 'way_of_apply': 'redirect'}"
      ]
     },
     "execution_count": 4,
     "metadata": {},
     "output_type": "execute_result"
    }
   ],
   "source": [
    "content[0]"
   ]
  },
  {
   "cell_type": "markdown",
   "id": "951ee7a8",
   "metadata": {
    "canvas": {
     "comments": [],
     "componentType": "CodeCell",
     "copiedOriginId": null,
     "diskcache": false,
     "headerColor": "none",
     "id": "5d3cdbb4-c6c4-4e89-88a2-b9b562d43b54",
     "isComponent": false,
     "name": "",
     "parents": []
    }
   },
   "source": [
    "# Transformation des données"
   ]
  },
  {
   "cell_type": "code",
   "execution_count": 5,
   "id": "2c68c255",
   "metadata": {
    "canvas": {
     "comments": [],
     "componentType": "CodeCell",
     "copiedOriginId": null,
     "diskcache": false,
     "headerColor": "none",
     "id": "94795c2a-09a7-4fb0-b28b-1a833595169b",
     "isComponent": false,
     "name": "",
     "parents": []
    }
   },
   "outputs": [],
   "source": [
    "# Conversion des monnaies en euros\n",
    "pln = 0.213\n",
    "usd = 0.923\n",
    "\n",
    "# Préparation des données pour la création du DataFrame\n",
    "records = []\n",
    "offer_types = ['data']\n",
    "\n",
    "for offer in content:\n",
    "    if offer['marker_icon'] in offer_types:\n",
    "        for employment_type in offer['employment_types']:\n",
    "            if employment_type['type'] == 'b2b' and employment_type['salary'] is not None:\n",
    "                if employment_type['salary']['currency'] == 'pln':\n",
    "                    b2b_from = employment_type['salary']['from'] * pln\n",
    "                    b2b_to = employment_type['salary']['to'] * pln\n",
    "                elif employment_type['salary']['currency'] == 'usd':\n",
    "                    b2b_from = employment_type['salary']['from'] * usd\n",
    "                    b2b_to = employment_type['salary']['to'] * usd\n",
    "                else:\n",
    "                    b2b_from = employment_type['salary']['from']\n",
    "                    b2b_to = employment_type['salary']['to']\n",
    "            else:\n",
    "                b2b_from = None\n",
    "                b2b_to = None\n",
    "                \n",
    "            if employment_type['type'] == 'permanent' and employment_type['salary'] is not None:\n",
    "                if employment_type['salary']['currency'] == 'pln':\n",
    "                    permanent_from = employment_type['salary']['from'] * pln\n",
    "                    permanent_to = employment_type['salary']['to'] * pln\n",
    "                elif employment_type['salary']['currency'] == 'usd':\n",
    "                    permanent_from = employment_type['salary']['from'] * usd\n",
    "                    permanent_to = employment_type['salary']['to'] * usd\n",
    "                else:\n",
    "                    permanent_from = employment_type['salary']['from']\n",
    "                    permanent_to = employment_type['salary']['to']\n",
    "            else:\n",
    "                permanent_from = None\n",
    "                permanent_to = None\n",
    "                \n",
    "        for skill in offer['skills']:\n",
    "            #print(offer['title'])\n",
    "            records.append({'offer_type': offer['marker_icon'],\n",
    "                           'title': offer['title'],\n",
    "                           'id': offer['id'],\n",
    "                           'b2b_from': b2b_from,\n",
    "                           'b2b_to': b2b_to,\n",
    "                           'skill_name': skill['name'],\n",
    "                           'skill_level': skill['level'],\n",
    "                           'permanent_from': permanent_from,\n",
    "                           'permanent_to': permanent_to,\n",
    "                           'experience_level': offer['experience_level']})\n",
    "    "
   ]
  },
  {
   "cell_type": "markdown",
   "id": "7062cd66",
   "metadata": {
    "canvas": {
     "comments": [],
     "componentType": "CodeCell",
     "copiedOriginId": null,
     "diskcache": false,
     "headerColor": "none",
     "id": "c9e3b101-61bf-43bd-a647-e1ddb1f08a8c",
     "isComponent": false,
     "name": "",
     "parents": []
    }
   },
   "source": [
    "# Création du DataFrame"
   ]
  },
  {
   "cell_type": "code",
   "execution_count": 6,
   "id": "3c8a984a",
   "metadata": {
    "canvas": {
     "comments": [],
     "componentType": "CodeCell",
     "copiedOriginId": null,
     "diskcache": false,
     "headerColor": "none",
     "id": "ebd43e08-3377-4b93-9a14-cf433f54843b",
     "isComponent": false,
     "name": "",
     "parents": []
    }
   },
   "outputs": [
    {
     "data": {
      "text/html": [
       "<div>\n",
       "<style scoped>\n",
       "    .dataframe tbody tr th:only-of-type {\n",
       "        vertical-align: middle;\n",
       "    }\n",
       "\n",
       "    .dataframe tbody tr th {\n",
       "        vertical-align: top;\n",
       "    }\n",
       "\n",
       "    .dataframe thead th {\n",
       "        text-align: right;\n",
       "    }\n",
       "</style>\n",
       "<table border=\"1\" class=\"dataframe\">\n",
       "  <thead>\n",
       "    <tr style=\"text-align: right;\">\n",
       "      <th></th>\n",
       "      <th>offer_type</th>\n",
       "      <th>title</th>\n",
       "      <th>id</th>\n",
       "      <th>b2b_from</th>\n",
       "      <th>b2b_to</th>\n",
       "      <th>skill_name</th>\n",
       "      <th>skill_level</th>\n",
       "      <th>permanent_from</th>\n",
       "      <th>permanent_to</th>\n",
       "      <th>experience_level</th>\n",
       "    </tr>\n",
       "  </thead>\n",
       "  <tbody>\n",
       "    <tr>\n",
       "      <th>1962</th>\n",
       "      <td>data</td>\n",
       "      <td>Data Architect</td>\n",
       "      <td>crodu-data-architect-gdansk</td>\n",
       "      <td>6262.2</td>\n",
       "      <td>7693.56</td>\n",
       "      <td>ETL</td>\n",
       "      <td>5</td>\n",
       "      <td>NaN</td>\n",
       "      <td>NaN</td>\n",
       "      <td>senior</td>\n",
       "    </tr>\n",
       "    <tr>\n",
       "      <th>472</th>\n",
       "      <td>data</td>\n",
       "      <td>SPECJALISTA DS. POWER BI</td>\n",
       "      <td>adamed-specjalista-ds-power-bi-6612475a-94d3-4...</td>\n",
       "      <td>NaN</td>\n",
       "      <td>NaN</td>\n",
       "      <td>Business Intelligence</td>\n",
       "      <td>3</td>\n",
       "      <td>NaN</td>\n",
       "      <td>NaN</td>\n",
       "      <td>mid</td>\n",
       "    </tr>\n",
       "    <tr>\n",
       "      <th>671</th>\n",
       "      <td>data</td>\n",
       "      <td>Data Engineer</td>\n",
       "      <td>datumo-big-data-engineer-271dab9e-0719-42b1-b1...</td>\n",
       "      <td>2982.0</td>\n",
       "      <td>5325.00</td>\n",
       "      <td>Cloud</td>\n",
       "      <td>3</td>\n",
       "      <td>NaN</td>\n",
       "      <td>NaN</td>\n",
       "      <td>mid</td>\n",
       "    </tr>\n",
       "    <tr>\n",
       "      <th>212</th>\n",
       "      <td>data</td>\n",
       "      <td>Software Data Engineer (Python/Java)</td>\n",
       "      <td>infogain-software-data-engineer-python-java-ka...</td>\n",
       "      <td>4686.0</td>\n",
       "      <td>5964.00</td>\n",
       "      <td>Cloud</td>\n",
       "      <td>4</td>\n",
       "      <td>NaN</td>\n",
       "      <td>NaN</td>\n",
       "      <td>mid</td>\n",
       "    </tr>\n",
       "    <tr>\n",
       "      <th>397</th>\n",
       "      <td>data</td>\n",
       "      <td>Data Scientist - CVM&amp;Analytics Dep.</td>\n",
       "      <td>t-mobile-polska-s-a-data-scientist-cvm-analyti...</td>\n",
       "      <td>NaN</td>\n",
       "      <td>NaN</td>\n",
       "      <td>Python</td>\n",
       "      <td>3</td>\n",
       "      <td>NaN</td>\n",
       "      <td>NaN</td>\n",
       "      <td>mid</td>\n",
       "    </tr>\n",
       "  </tbody>\n",
       "</table>\n",
       "</div>"
      ],
      "text/plain": [
       "     offer_type                                 title  \\\n",
       "1962       data                        Data Architect   \n",
       "472        data              SPECJALISTA DS. POWER BI   \n",
       "671        data                         Data Engineer   \n",
       "212        data  Software Data Engineer (Python/Java)   \n",
       "397        data   Data Scientist - CVM&Analytics Dep.   \n",
       "\n",
       "                                                     id  b2b_from   b2b_to  \\\n",
       "1962                        crodu-data-architect-gdansk    6262.2  7693.56   \n",
       "472   adamed-specjalista-ds-power-bi-6612475a-94d3-4...       NaN      NaN   \n",
       "671   datumo-big-data-engineer-271dab9e-0719-42b1-b1...    2982.0  5325.00   \n",
       "212   infogain-software-data-engineer-python-java-ka...    4686.0  5964.00   \n",
       "397   t-mobile-polska-s-a-data-scientist-cvm-analyti...       NaN      NaN   \n",
       "\n",
       "                 skill_name  skill_level  permanent_from  permanent_to  \\\n",
       "1962                    ETL            5             NaN           NaN   \n",
       "472   Business Intelligence            3             NaN           NaN   \n",
       "671                   Cloud            3             NaN           NaN   \n",
       "212                   Cloud            4             NaN           NaN   \n",
       "397                  Python            3             NaN           NaN   \n",
       "\n",
       "     experience_level  \n",
       "1962           senior  \n",
       "472               mid  \n",
       "671               mid  \n",
       "212               mid  \n",
       "397               mid  "
      ]
     },
     "execution_count": 6,
     "metadata": {},
     "output_type": "execute_result"
    }
   ],
   "source": [
    "df = pd.DataFrame(records)\n",
    "df.sample(5)"
   ]
  },
  {
   "cell_type": "code",
   "execution_count": 7,
   "id": "0c353535",
   "metadata": {
    "canvas": {
     "comments": [],
     "componentType": "CodeCell",
     "copiedOriginId": null,
     "diskcache": false,
     "headerColor": "none",
     "id": "fa535a62-02c0-413b-a524-8a9347ae1d14",
     "isComponent": false,
     "name": "",
     "parents": []
    }
   },
   "outputs": [
    {
     "data": {
      "text/plain": [
       "SQL              313\n",
       "Python           241\n",
       "ETL              101\n",
       "AWS              101\n",
       "Big Data          75\n",
       "                ... \n",
       "Azure/AWS          1\n",
       "TypeScript         1\n",
       "SAS 4 GL           1\n",
       "MDM                1\n",
       "DWH/Data Mart      1\n",
       "Name: skill_name, Length: 233, dtype: int64"
      ]
     },
     "execution_count": 7,
     "metadata": {},
     "output_type": "execute_result"
    }
   ],
   "source": [
    "df['skill_name'].value_counts()"
   ]
  },
  {
   "cell_type": "code",
   "execution_count": 8,
   "id": "8f36ebdf",
   "metadata": {
    "canvas": {
     "comments": [],
     "componentType": "CodeCell",
     "copiedOriginId": null,
     "diskcache": false,
     "headerColor": "none",
     "id": "366f61e7-c0cf-427f-9e47-18cc872df3d5",
     "isComponent": false,
     "name": "",
     "parents": []
    }
   },
   "outputs": [
    {
     "data": {
      "text/plain": [
       "Index(['SQL', 'Python', 'AWS', 'ETL', 'Big Data', 'T-SQL', 'Oracle',\n",
       "       'Power BI', 'Data Science', 'Hadoop', 'PL/SQL', 'English', 'Azure',\n",
       "       'Snowflake', 'Databases', 'Cloud', 'Spark', 'Machine Learning', 'Data',\n",
       "       'Scala'],\n",
       "      dtype='object', name='skill_name')"
      ]
     },
     "execution_count": 8,
     "metadata": {},
     "output_type": "execute_result"
    }
   ],
   "source": [
    "# Affichage des 20 skills les plus demandés\n",
    "top_skills = df.groupby(['skill_name'])['id'].nunique().sort_values(ascending=False).head(20).index\n",
    "top_skills"
   ]
  },
  {
   "cell_type": "code",
   "execution_count": 9,
   "id": "02c58e1d",
   "metadata": {
    "canvas": {
     "comments": [],
     "componentType": "CodeCell",
     "copiedOriginId": null,
     "diskcache": false,
     "headerColor": "none",
     "id": "93ecd7e6-3a0c-4578-b0c6-7c337dca6849",
     "isComponent": false,
     "name": "",
     "parents": []
    }
   },
   "outputs": [
    {
     "data": {
      "text/html": [
       "<div>\n",
       "<style scoped>\n",
       "    .dataframe tbody tr th:only-of-type {\n",
       "        vertical-align: middle;\n",
       "    }\n",
       "\n",
       "    .dataframe tbody tr th {\n",
       "        vertical-align: top;\n",
       "    }\n",
       "\n",
       "    .dataframe thead th {\n",
       "        text-align: right;\n",
       "    }\n",
       "</style>\n",
       "<table border=\"1\" class=\"dataframe\">\n",
       "  <thead>\n",
       "    <tr style=\"text-align: right;\">\n",
       "      <th></th>\n",
       "      <th>offer_type</th>\n",
       "      <th>title</th>\n",
       "      <th>id</th>\n",
       "      <th>b2b_from</th>\n",
       "      <th>b2b_to</th>\n",
       "      <th>skill_name</th>\n",
       "      <th>skill_level</th>\n",
       "      <th>permanent_from</th>\n",
       "      <th>permanent_to</th>\n",
       "      <th>experience_level</th>\n",
       "    </tr>\n",
       "  </thead>\n",
       "  <tbody>\n",
       "    <tr>\n",
       "      <th>1903</th>\n",
       "      <td>data</td>\n",
       "      <td>Data Scientist / Analyst</td>\n",
       "      <td>capgemini-polska-data-scientist-analyst-rzeszow</td>\n",
       "      <td>NaN</td>\n",
       "      <td>NaN</td>\n",
       "      <td>Data Science</td>\n",
       "      <td>3</td>\n",
       "      <td>NaN</td>\n",
       "      <td>NaN</td>\n",
       "      <td>mid</td>\n",
       "    </tr>\n",
       "    <tr>\n",
       "      <th>2579</th>\n",
       "      <td>data</td>\n",
       "      <td>Data Quality Tester</td>\n",
       "      <td>idego-data-quality-tester-wroclaw</td>\n",
       "      <td>4260.0</td>\n",
       "      <td>5325.0</td>\n",
       "      <td>Power BI</td>\n",
       "      <td>3</td>\n",
       "      <td>NaN</td>\n",
       "      <td>NaN</td>\n",
       "      <td>senior</td>\n",
       "    </tr>\n",
       "    <tr>\n",
       "      <th>245</th>\n",
       "      <td>data</td>\n",
       "      <td>Data/IT Analyst</td>\n",
       "      <td>nordea-data-it-analyst</td>\n",
       "      <td>NaN</td>\n",
       "      <td>NaN</td>\n",
       "      <td>SQL</td>\n",
       "      <td>3</td>\n",
       "      <td>1917.0</td>\n",
       "      <td>2769.0</td>\n",
       "      <td>mid</td>\n",
       "    </tr>\n",
       "    <tr>\n",
       "      <th>1901</th>\n",
       "      <td>data</td>\n",
       "      <td>Data Scientist / Analyst</td>\n",
       "      <td>capgemini-polska-data-scientist-analyst-rzeszow</td>\n",
       "      <td>NaN</td>\n",
       "      <td>NaN</td>\n",
       "      <td>Data</td>\n",
       "      <td>3</td>\n",
       "      <td>NaN</td>\n",
       "      <td>NaN</td>\n",
       "      <td>mid</td>\n",
       "    </tr>\n",
       "    <tr>\n",
       "      <th>2340</th>\n",
       "      <td>data</td>\n",
       "      <td>Software Consultant</td>\n",
       "      <td>andea-software-consultant-7e8013c3-0cd6-4a1b-9...</td>\n",
       "      <td>1597.5</td>\n",
       "      <td>2130.0</td>\n",
       "      <td>English</td>\n",
       "      <td>4</td>\n",
       "      <td>NaN</td>\n",
       "      <td>NaN</td>\n",
       "      <td>mid</td>\n",
       "    </tr>\n",
       "  </tbody>\n",
       "</table>\n",
       "</div>"
      ],
      "text/plain": [
       "     offer_type                     title  \\\n",
       "1903       data  Data Scientist / Analyst   \n",
       "2579       data       Data Quality Tester   \n",
       "245        data           Data/IT Analyst   \n",
       "1901       data  Data Scientist / Analyst   \n",
       "2340       data       Software Consultant   \n",
       "\n",
       "                                                     id  b2b_from  b2b_to  \\\n",
       "1903    capgemini-polska-data-scientist-analyst-rzeszow       NaN     NaN   \n",
       "2579                  idego-data-quality-tester-wroclaw    4260.0  5325.0   \n",
       "245                              nordea-data-it-analyst       NaN     NaN   \n",
       "1901    capgemini-polska-data-scientist-analyst-rzeszow       NaN     NaN   \n",
       "2340  andea-software-consultant-7e8013c3-0cd6-4a1b-9...    1597.5  2130.0   \n",
       "\n",
       "        skill_name  skill_level  permanent_from  permanent_to experience_level  \n",
       "1903  Data Science            3             NaN           NaN              mid  \n",
       "2579      Power BI            3             NaN           NaN           senior  \n",
       "245            SQL            3          1917.0        2769.0              mid  \n",
       "1901          Data            3             NaN           NaN              mid  \n",
       "2340       English            4             NaN           NaN              mid  "
      ]
     },
     "execution_count": 9,
     "metadata": {},
     "output_type": "execute_result"
    }
   ],
   "source": [
    "# Récupération des annonces contenant uniquement les 20 skills les plus demandés\n",
    "df = df[df['skill_name'].isin(top_skills)]\n",
    "df.sample(5)"
   ]
  },
  {
   "cell_type": "markdown",
   "id": "6e137fbd",
   "metadata": {
    "canvas": {
     "comments": [],
     "componentType": "CodeCell",
     "copiedOriginId": null,
     "diskcache": false,
     "headerColor": "none",
     "id": "53768544-3977-471c-b48a-768e572d29e8",
     "isComponent": false,
     "name": "",
     "parents": []
    }
   },
   "source": [
    "# Pivot"
   ]
  },
  {
   "cell_type": "code",
   "execution_count": 10,
   "id": "f7190396",
   "metadata": {
    "canvas": {
     "comments": [],
     "componentType": "CodeCell",
     "copiedOriginId": null,
     "diskcache": false,
     "headerColor": "none",
     "id": "392ede98-42bc-4818-94af-16d3e028876b",
     "isComponent": false,
     "name": "",
     "parents": []
    }
   },
   "outputs": [
    {
     "data": {
      "text/html": [
       "<div>\n",
       "<style scoped>\n",
       "    .dataframe tbody tr th:only-of-type {\n",
       "        vertical-align: middle;\n",
       "    }\n",
       "\n",
       "    .dataframe tbody tr th {\n",
       "        vertical-align: top;\n",
       "    }\n",
       "\n",
       "    .dataframe thead th {\n",
       "        text-align: right;\n",
       "    }\n",
       "</style>\n",
       "<table border=\"1\" class=\"dataframe\">\n",
       "  <thead>\n",
       "    <tr style=\"text-align: right;\">\n",
       "      <th>skill_name</th>\n",
       "      <th>offer_type</th>\n",
       "      <th>title</th>\n",
       "      <th>id</th>\n",
       "      <th>b2b_from</th>\n",
       "      <th>b2b_to</th>\n",
       "      <th>permanent_from</th>\n",
       "      <th>permanent_to</th>\n",
       "      <th>experience_level</th>\n",
       "      <th>AWS</th>\n",
       "      <th>Azure</th>\n",
       "      <th>...</th>\n",
       "      <th>Machine Learning</th>\n",
       "      <th>Oracle</th>\n",
       "      <th>PL/SQL</th>\n",
       "      <th>Power BI</th>\n",
       "      <th>Python</th>\n",
       "      <th>SQL</th>\n",
       "      <th>Scala</th>\n",
       "      <th>Snowflake</th>\n",
       "      <th>Spark</th>\n",
       "      <th>T-SQL</th>\n",
       "    </tr>\n",
       "  </thead>\n",
       "  <tbody>\n",
       "    <tr>\n",
       "      <th>281</th>\n",
       "      <td>data</td>\n",
       "      <td>Data Engineer (REMOTE)</td>\n",
       "      <td>devsdata-llc-data-engineer-remote-gdansk</td>\n",
       "      <td>NaN</td>\n",
       "      <td>NaN</td>\n",
       "      <td>NaN</td>\n",
       "      <td>NaN</td>\n",
       "      <td>mid</td>\n",
       "      <td>0.0</td>\n",
       "      <td>0.0</td>\n",
       "      <td>...</td>\n",
       "      <td>0.0</td>\n",
       "      <td>0.0</td>\n",
       "      <td>0.0</td>\n",
       "      <td>0.0</td>\n",
       "      <td>3.0</td>\n",
       "      <td>3.0</td>\n",
       "      <td>0.0</td>\n",
       "      <td>0.0</td>\n",
       "      <td>0.0</td>\n",
       "      <td>0.0</td>\n",
       "    </tr>\n",
       "    <tr>\n",
       "      <th>42</th>\n",
       "      <td>data</td>\n",
       "      <td>Analityk/Analityczka Danych</td>\n",
       "      <td>ringier-axel-springer-polska-analityk-analityc...</td>\n",
       "      <td>NaN</td>\n",
       "      <td>NaN</td>\n",
       "      <td>NaN</td>\n",
       "      <td>NaN</td>\n",
       "      <td>mid</td>\n",
       "      <td>0.0</td>\n",
       "      <td>0.0</td>\n",
       "      <td>...</td>\n",
       "      <td>0.0</td>\n",
       "      <td>0.0</td>\n",
       "      <td>0.0</td>\n",
       "      <td>0.0</td>\n",
       "      <td>2.0</td>\n",
       "      <td>3.0</td>\n",
       "      <td>0.0</td>\n",
       "      <td>0.0</td>\n",
       "      <td>0.0</td>\n",
       "      <td>0.0</td>\n",
       "    </tr>\n",
       "    <tr>\n",
       "      <th>414</th>\n",
       "      <td>data</td>\n",
       "      <td>Database Administrator</td>\n",
       "      <td>provectus-database-administrator-67ab2850-71b2...</td>\n",
       "      <td>NaN</td>\n",
       "      <td>NaN</td>\n",
       "      <td>NaN</td>\n",
       "      <td>NaN</td>\n",
       "      <td>mid</td>\n",
       "      <td>3.0</td>\n",
       "      <td>0.0</td>\n",
       "      <td>...</td>\n",
       "      <td>0.0</td>\n",
       "      <td>0.0</td>\n",
       "      <td>0.0</td>\n",
       "      <td>0.0</td>\n",
       "      <td>0.0</td>\n",
       "      <td>0.0</td>\n",
       "      <td>0.0</td>\n",
       "      <td>0.0</td>\n",
       "      <td>0.0</td>\n",
       "      <td>0.0</td>\n",
       "    </tr>\n",
       "    <tr>\n",
       "      <th>756</th>\n",
       "      <td>data</td>\n",
       "      <td>Senior Technical Consultant (BA)</td>\n",
       "      <td>infogain-senior-technical-consultant-ba</td>\n",
       "      <td>NaN</td>\n",
       "      <td>NaN</td>\n",
       "      <td>4899.0</td>\n",
       "      <td>6177.0</td>\n",
       "      <td>senior</td>\n",
       "      <td>0.0</td>\n",
       "      <td>0.0</td>\n",
       "      <td>...</td>\n",
       "      <td>0.0</td>\n",
       "      <td>4.0</td>\n",
       "      <td>0.0</td>\n",
       "      <td>0.0</td>\n",
       "      <td>0.0</td>\n",
       "      <td>4.0</td>\n",
       "      <td>0.0</td>\n",
       "      <td>0.0</td>\n",
       "      <td>0.0</td>\n",
       "      <td>0.0</td>\n",
       "    </tr>\n",
       "    <tr>\n",
       "      <th>208</th>\n",
       "      <td>data</td>\n",
       "      <td>Data Engineer</td>\n",
       "      <td>ipf-digital-data-engineer-krakow</td>\n",
       "      <td>NaN</td>\n",
       "      <td>NaN</td>\n",
       "      <td>NaN</td>\n",
       "      <td>NaN</td>\n",
       "      <td>mid</td>\n",
       "      <td>0.0</td>\n",
       "      <td>0.0</td>\n",
       "      <td>...</td>\n",
       "      <td>0.0</td>\n",
       "      <td>0.0</td>\n",
       "      <td>0.0</td>\n",
       "      <td>0.0</td>\n",
       "      <td>0.0</td>\n",
       "      <td>3.0</td>\n",
       "      <td>0.0</td>\n",
       "      <td>0.0</td>\n",
       "      <td>0.0</td>\n",
       "      <td>0.0</td>\n",
       "    </tr>\n",
       "  </tbody>\n",
       "</table>\n",
       "<p>5 rows × 28 columns</p>\n",
       "</div>"
      ],
      "text/plain": [
       "skill_name offer_type                             title  \\\n",
       "281              data            Data Engineer (REMOTE)   \n",
       "42               data       Analityk/Analityczka Danych   \n",
       "414              data            Database Administrator   \n",
       "756              data  Senior Technical Consultant (BA)   \n",
       "208              data                     Data Engineer   \n",
       "\n",
       "skill_name                                                 id  b2b_from  \\\n",
       "281                  devsdata-llc-data-engineer-remote-gdansk       NaN   \n",
       "42          ringier-axel-springer-polska-analityk-analityc...       NaN   \n",
       "414         provectus-database-administrator-67ab2850-71b2...       NaN   \n",
       "756                   infogain-senior-technical-consultant-ba       NaN   \n",
       "208                          ipf-digital-data-engineer-krakow       NaN   \n",
       "\n",
       "skill_name  b2b_to  permanent_from  permanent_to experience_level  AWS  Azure  \\\n",
       "281            NaN             NaN           NaN              mid  0.0    0.0   \n",
       "42             NaN             NaN           NaN              mid  0.0    0.0   \n",
       "414            NaN             NaN           NaN              mid  3.0    0.0   \n",
       "756            NaN          4899.0        6177.0           senior  0.0    0.0   \n",
       "208            NaN             NaN           NaN              mid  0.0    0.0   \n",
       "\n",
       "skill_name  ...  Machine Learning  Oracle  PL/SQL  Power BI  Python  SQL  \\\n",
       "281         ...               0.0     0.0     0.0       0.0     3.0  3.0   \n",
       "42          ...               0.0     0.0     0.0       0.0     2.0  3.0   \n",
       "414         ...               0.0     0.0     0.0       0.0     0.0  0.0   \n",
       "756         ...               0.0     4.0     0.0       0.0     0.0  4.0   \n",
       "208         ...               0.0     0.0     0.0       0.0     0.0  3.0   \n",
       "\n",
       "skill_name  Scala  Snowflake  Spark  T-SQL  \n",
       "281           0.0        0.0    0.0    0.0  \n",
       "42            0.0        0.0    0.0    0.0  \n",
       "414           0.0        0.0    0.0    0.0  \n",
       "756           0.0        0.0    0.0    0.0  \n",
       "208           0.0        0.0    0.0    0.0  \n",
       "\n",
       "[5 rows x 28 columns]"
      ]
     },
     "execution_count": 10,
     "metadata": {},
     "output_type": "execute_result"
    }
   ],
   "source": [
    "# Pivotage des 'skill_name' en colonnes\n",
    "df = df.pivot(index = df.columns.drop(['skill_name', 'skill_level']),\n",
    "         columns = 'skill_name',\n",
    "         values = 'skill_level').fillna(0).reset_index()\n",
    "df.sample(5)"
   ]
  },
  {
   "cell_type": "code",
   "execution_count": 11,
   "id": "d0bf2613-010d-43ef-abb5-9bf27bdd6e4c",
   "metadata": {
    "canvas": {
     "comments": [],
     "componentType": "CodeCell",
     "copiedOriginId": null,
     "diskcache": false,
     "headerColor": "inherit",
     "id": "e94631e7-5943-4f1e-a83d-badea137fea2",
     "isComponent": false,
     "name": "",
     "parents": []
    }
   },
   "outputs": [
    {
     "name": "stdout",
     "output_type": "stream",
     "text": [
      "\n",
      "Le DataFrame final contient 859 observations et 28 colonnes\n"
     ]
    }
   ],
   "source": [
    "print(f'\\nLe DataFrame final contient {df.shape[0]} observations et {df.shape[1]} colonnes')"
   ]
  },
  {
   "cell_type": "markdown",
   "id": "75136c01",
   "metadata": {
    "canvas": {
     "comments": [],
     "componentType": "CodeCell",
     "copiedOriginId": null,
     "diskcache": false,
     "headerColor": "none",
     "id": "5d711780-d3be-495b-81ba-13c7dc282ab6",
     "isComponent": false,
     "name": "",
     "parents": []
    }
   },
   "source": [
    "# Exportation du fichier"
   ]
  },
  {
   "cell_type": "code",
   "execution_count": 12,
   "id": "8ab06ae9",
   "metadata": {
    "canvas": {
     "comments": [],
     "componentType": "CodeCell",
     "copiedOriginId": null,
     "diskcache": false,
     "headerColor": "none",
     "id": "9a3e969a-156f-4c9b-a84f-25b735839f17",
     "isComponent": false,
     "name": "",
     "parents": []
    }
   },
   "outputs": [],
   "source": [
    "df.to_csv('justjoin.csv', index=False)"
   ]
  }
 ],
 "metadata": {
  "canvas": {
   "colorPalette": [
    "inherit",
    "inherit",
    "inherit",
    "inherit",
    "inherit",
    "inherit",
    "inherit",
    "inherit",
    "inherit",
    "inherit"
   ],
   "parameters": [],
   "version": "1.0"
  },
  "kernelspec": {
   "display_name": "Python 3 (ipykernel)",
   "language": "python",
   "name": "python3"
  },
  "language_info": {
   "codemirror_mode": {
    "name": "ipython",
    "version": 3
   },
   "file_extension": ".py",
   "mimetype": "text/x-python",
   "name": "python",
   "nbconvert_exporter": "python",
   "pygments_lexer": "ipython3",
   "version": "3.9.13"
  },
  "toc": {
   "base_numbering": 1,
   "nav_menu": {},
   "number_sections": true,
   "sideBar": true,
   "skip_h1_title": false,
   "title_cell": "Table of Contents",
   "title_sidebar": "Contents",
   "toc_cell": false,
   "toc_position": {
    "height": "calc(100% - 180px)",
    "left": "10px",
    "top": "150px",
    "width": "197.1875px"
   },
   "toc_section_display": true,
   "toc_window_display": true
  },
  "varInspector": {
   "cols": {
    "lenName": 16,
    "lenType": 16,
    "lenVar": 40
   },
   "kernels_config": {
    "python": {
     "delete_cmd_postfix": "",
     "delete_cmd_prefix": "del ",
     "library": "var_list.py",
     "varRefreshCmd": "print(var_dic_list())"
    },
    "r": {
     "delete_cmd_postfix": ") ",
     "delete_cmd_prefix": "rm(",
     "library": "var_list.r",
     "varRefreshCmd": "cat(var_dic_list()) "
    }
   },
   "types_to_exclude": [
    "module",
    "function",
    "builtin_function_or_method",
    "instance",
    "_Feature"
   ],
   "window_display": false
  }
 },
 "nbformat": 4,
 "nbformat_minor": 5
}
